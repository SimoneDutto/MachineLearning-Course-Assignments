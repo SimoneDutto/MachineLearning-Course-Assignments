{
  "nbformat": 4,
  "nbformat_minor": 0,
  "metadata": {
    "colab": {
      "name": "HW2.ipynb",
      "provenance": [],
      "collapsed_sections": [],
      "toc_visible": true,
      "include_colab_link": true
    },
    "kernelspec": {
      "name": "python3",
      "display_name": "Python 3"
    },
    "accelerator": "GPU"
  },
  "cells": [
    {
      "cell_type": "markdown",
      "metadata": {
        "id": "view-in-github",
        "colab_type": "text"
      },
      "source": [
        "<a href=\"https://colab.research.google.com/github/SimoneDutto/MachineLearning/blob/master/HW2.ipynb\" target=\"_parent\"><img src=\"https://colab.research.google.com/assets/colab-badge.svg\" alt=\"Open In Colab\"/></a>"
      ]
    },
    {
      "cell_type": "markdown",
      "metadata": {
        "id": "c9QcGnGPdX2C",
        "colab_type": "text"
      },
      "source": [
        "\n",
        "**Install requirements**"
      ]
    },
    {
      "cell_type": "code",
      "metadata": {
        "id": "k9O3aM3Tb28q",
        "colab_type": "code",
        "outputId": "34bbedc6-1928-4def-f80e-496ac2566a21",
        "colab": {
          "base_uri": "https://localhost:8080/",
          "height": 185
        }
      },
      "source": [
        "!pip3 install 'torch==1.3.1'\n",
        "!pip3 install 'torchvision==0.4.2'\n",
        "!pip3 install 'Pillow-SIMD'\n",
        "!pip3 install 'tqdm'"
      ],
      "execution_count": 0,
      "outputs": [
        {
          "output_type": "stream",
          "text": [
            "Requirement already satisfied: torch==1.3.1 in /usr/local/lib/python3.6/dist-packages (1.3.1)\n",
            "Requirement already satisfied: numpy in /usr/local/lib/python3.6/dist-packages (from torch==1.3.1) (1.17.4)\n",
            "Requirement already satisfied: torchvision==0.4.2 in /usr/local/lib/python3.6/dist-packages (0.4.2)\n",
            "Requirement already satisfied: torch==1.3.1 in /usr/local/lib/python3.6/dist-packages (from torchvision==0.4.2) (1.3.1)\n",
            "Requirement already satisfied: pillow>=4.1.1 in /usr/local/lib/python3.6/dist-packages (from torchvision==0.4.2) (4.3.0)\n",
            "Requirement already satisfied: numpy in /usr/local/lib/python3.6/dist-packages (from torchvision==0.4.2) (1.17.4)\n",
            "Requirement already satisfied: six in /usr/local/lib/python3.6/dist-packages (from torchvision==0.4.2) (1.12.0)\n",
            "Requirement already satisfied: olefile in /usr/local/lib/python3.6/dist-packages (from pillow>=4.1.1->torchvision==0.4.2) (0.46)\n",
            "Requirement already satisfied: Pillow-SIMD in /usr/local/lib/python3.6/dist-packages (6.0.0.post0)\n",
            "Requirement already satisfied: tqdm in /usr/local/lib/python3.6/dist-packages (4.28.1)\n"
          ],
          "name": "stdout"
        }
      ]
    },
    {
      "cell_type": "markdown",
      "metadata": {
        "id": "fo942LMOdlh4",
        "colab_type": "text"
      },
      "source": [
        "**Import libraries**"
      ]
    },
    {
      "cell_type": "code",
      "metadata": {
        "id": "DokFOdD1dJEl",
        "colab_type": "code",
        "colab": {}
      },
      "source": [
        "import os\n",
        "import logging\n",
        "import os.path\n",
        "import sys\n",
        "\n",
        "import torch\n",
        "import torch.nn as nn\n",
        "import torch.optim as optim\n",
        "from torch.utils.data import Subset, DataLoader\n",
        "from torch.backends import cudnn\n",
        "\n",
        "import torchvision\n",
        "from torchvision import transforms\n",
        "from torchvision.models import alexnet, resnet50\n",
        "\n",
        "from PIL import Image\n",
        "from tqdm import tqdm\n",
        "from torchvision.datasets import VisionDataset\n",
        "\n",
        "from PIL import Image\n"
      ],
      "execution_count": 0,
      "outputs": []
    },
    {
      "cell_type": "markdown",
      "metadata": {
        "id": "OIDLJuIXK_vh",
        "colab_type": "text"
      },
      "source": [
        "** Set Arguments**\n",
        "\n",
        "*   No pretrain LR = 1e-2 STEPSIZE =26 55\n",
        "*   Pretrain LR = 1e-2 STEPSIZE = 10 EPOCHS = 20 86\n",
        "*   Freeze AlexNet 83\n",
        "*   Freeze fully connect 0.5911485774499473 LR = 1e-2 STEPSIZE = 20 EPOCHS = 30\n",
        "*   RANDOM Horizontal flip LR = 1e-2 STEPSIZE = 10 EPOCHS = 20 86\n",
        "*   RANDOM Color Brightness LR = 1e-2 STEPSIZE = 10 EPOCHS = 20 86.6\n",
        "*   RANDOM Ten Crop LR = 1e-3 BATCH 128 NUM_EPOCHS = 30 STEP_SIZE =20 GAMMA = 0.1 84.5\n",
        "* ResNet\n"
      ]
    },
    {
      "cell_type": "code",
      "metadata": {
        "id": "d5PkYfqfK_SA",
        "colab_type": "code",
        "colab": {}
      },
      "source": [
        "DEVICE = 'cuda' # 'cuda' or 'cpu'\n",
        "\n",
        "NUM_CLASSES = 102 # 101 + 1: There is am extra Background class that should be removed \n",
        "\n",
        "BATCH_SIZE = 32    # Higher batch sizes allows for larger learning rates. An empirical heuristic suggests that, when changing\n",
        "                     # the batch size, learning rate should change by the same factor to have comparable results\n",
        "\n",
        "LR = 1e-2            # The initial Learning Rate \n",
        "MOMENTUM = 0.9       # Hyperparameter for SGD, keep this at 0.9 when using SGD\n",
        "WEIGHT_DECAY = 5e-5  # Regularization, you can keep this at the default\n",
        "\n",
        "NUM_EPOCHS = 20      # Total number of training epochs (iterations over dataset)\n",
        "STEP_SIZE = 10    # How many epochs before decreasing learning rate (if using a step-down policy)\n",
        "GAMMA = 0.1          # Multiplicative factor for learning rate step-down\n",
        "\n",
        "LOG_FREQUENCY = 10\n",
        "DATA_DIR = 'Homework2-Caltech101/101_ObjectCategories/'\n",
        "FILE_DIR = 'Homework2-Caltech101/'"
      ],
      "execution_count": 0,
      "outputs": []
    },
    {
      "cell_type": "markdown",
      "metadata": {
        "id": "9gwii0TBHvzh",
        "colab_type": "text"
      },
      "source": [
        "**Define Data Preprocessing**"
      ]
    },
    {
      "cell_type": "code",
      "metadata": {
        "id": "QUDdw4j2H0Mc",
        "colab_type": "code",
        "colab": {}
      },
      "source": [
        "# Define transforms for training phase\n",
        "train_transform = transforms.Compose([transforms.Resize(256),      # Resizes short size of the PIL image to 256\n",
        "                                      transforms.CenterCrop(224),  # Crops a central square patch of the image\n",
        "                                                                   # 224 because torchvision's AlexNet needs a 224x224 input!\n",
        "                                                                   # Remember this when applying different transformations, otherwise you get an error\n",
        "                                      #transforms.transforms.RandomHorizontalFlip(),\n",
        "                                      #transforms.ColorJitter(0.5, 0.7),\n",
        "                                      #transforms.RandomRotation(20),\n",
        "                                      transforms.ToTensor(), # Turn PIL Image to torch.Tensor\n",
        "                                      #transforms.Normalize((0.5, 0.5, 0.5), (0.5, 0.5, 0.5))\n",
        "                                      transforms.Normalize((0.485, 0.456, 0.406), (0.229, 0.224, 0.225) ) # Normalizes tensor with mean and standard deviation\n",
        "])\n",
        "# Define transforms for the evaluation phase\n",
        "eval_transform = transforms.Compose([transforms.Resize(256),\n",
        "                                      transforms.CenterCrop(224),\n",
        "                                      transforms.ToTensor(),\n",
        "                                      #transforms.Normalize((0.5, 0.5, 0.5), (0.5, 0.5, 0.5))\n",
        "                                      transforms.Normalize((0.485, 0.456, 0.406), (0.229, 0.224, 0.225) )\n",
        "                                      #transforms.TenCrop(224), # this is a list of PIL Images\n",
        "                                      #transforms.Lambda(lambda crops: torch.stack([transforms.ToTensor()(crop) for crop in crops])),\n",
        "                                      #transforms.Lambda(lambda crops: torch.stack([transforms.Normalize([0.485, 0.456, 0.406], [0.229, 0.224, 0.225])(crop) for crop in crops])),                                    \n",
        "])\n"
      ],
      "execution_count": 0,
      "outputs": []
    },
    {
      "cell_type": "markdown",
      "metadata": {
        "id": "gFzzZXeK5759",
        "colab_type": "text"
      },
      "source": [
        "**Class to define the split set**"
      ]
    },
    {
      "cell_type": "code",
      "metadata": {
        "id": "cjiQYDhd6ChB",
        "colab_type": "code",
        "colab": {}
      },
      "source": [
        "def pil_loader(path):\n",
        "    # open path as file to avoid ResourceWarning (https://github.com/python-pillow/Pillow/issues/835)\n",
        "    with open(DATA_DIR+path, 'rb') as f:\n",
        "        img = Image.open(f)\n",
        "        return img.convert('RGB')\n",
        "\n",
        "def divideClasses():\n",
        "    class_label = dict(tuple())\n",
        "    num_label = 0\n",
        "    train_paths =list()\n",
        "    val_paths = list()\n",
        "    test_paths = list()    \n",
        "    f = open(FILE_DIR+\"train.txt\", \"r\")\n",
        "    for x in f:\n",
        "      if not x.startswith(\"BACKGROUND\"):\n",
        "          label = x.split(\"/\")[0]\n",
        "          if label not in class_label:\n",
        "              des_label = num_label\n",
        "              class_label[label] = des_label,1\n",
        "              train_paths.append(x.rstrip()+\"-\"+str(des_label))\n",
        "              num_label+=1\n",
        "          else:\n",
        "              des_label, flag = class_label[label]\n",
        "              if flag < 2:\n",
        "                train_paths.append(x.rstrip()+\"-\"+str(des_label))\n",
        "                flag += 1\n",
        "                class_label[label] = des_label,flag\n",
        "              else:\n",
        "                val_paths.append(x.rstrip()+\"-\"+str(des_label))\n",
        "                class_label[label] = des_label,0\n",
        "    f.close()\n",
        "    f = open(FILE_DIR+\"test.txt\", \"r\")\n",
        "    i = 0\n",
        "    for x in f:\n",
        "      if not x.startswith(\"BACKGROUND\"):\n",
        "          label = x.split(\"/\")[0]\n",
        "          des_label, flag = class_label[label]\n",
        "          test_paths.append(x.rstrip()+\"-\"+str(des_label))\n",
        "          i += 1\n",
        "    f.close()\n",
        "    return train_paths, val_paths, test_paths\n",
        "class Caltech(VisionDataset):\n",
        "    split = str() \n",
        "    paths = list()\n",
        "    def __init__(self, root, split, transform=None, target_transform=None, paths=None):\n",
        "\n",
        "        super(Caltech, self).__init__(root, transform=transform, target_transform=target_transform)\n",
        "\n",
        "        self.split = split # This defines the split you are going to use\n",
        "                           # (split files are called 'train.txt' and 'test.txt')\n",
        "        \n",
        "        self.paths = paths\n",
        "        '''\n",
        "        - Here you should implement the logic for reading the splits files and accessing elements\n",
        "        - If the RAM size allows it, it is faster to store all data in memory\n",
        "        - PyTorch Dataset classes use indexes to read elements\n",
        "        - You should provide a way for the __getitem__ method to access the image-label pair\n",
        "          through the index\n",
        "        - Labels should start from 0, so for Caltech you will have lables 0...100 (excluding the background class) \n",
        "        '''\n",
        "\n",
        "    def __getitem__(self, index):\n",
        "        '''\n",
        "        __getitem__ should access an element through its index\n",
        "        Args:\n",
        "            index (int): Index\n",
        "        Returns:\n",
        "            tuple: (sample, target) where target is class_index of the target class.\n",
        "        '''\n",
        "        \n",
        "        im_lb = self.paths[index].split(\"-\")\n",
        "        \n",
        "        image, label = pil_loader(im_lb[0]), int(im_lb[1])\n",
        "\n",
        "        # Applies preprocessing when accessing the image\n",
        "        if self.transform is not None:\n",
        "            image = self.transform(image)\n",
        "\n",
        "        return image, label\n",
        "\n",
        "    def __len__(self):\n",
        "        '''\n",
        "        The __len__ method returns the length of the dataset\n",
        "        It is mandatory, as this is used by several other components\n",
        "        '''\n",
        "        length = len(self.paths)\n",
        "        return length"
      ],
      "execution_count": 0,
      "outputs": []
    },
    {
      "cell_type": "markdown",
      "metadata": {
        "id": "2qYIHPzYLY7i",
        "colab_type": "text"
      },
      "source": [
        "**Prepare Dataset**"
      ]
    },
    {
      "cell_type": "code",
      "metadata": {
        "id": "QfVq_uDHLbsR",
        "colab_type": "code",
        "colab": {}
      },
      "source": [
        "# Clone github repository with data\n",
        "if not os.path.isdir('./Homework2-Caltech101'):\n",
        "  !git clone https://github.com/MachineLearning2020/Homework2-Caltech101.git\n",
        "\n",
        "\n",
        "#Prepare Pytorch train/test Datasets\n",
        "# train_dataset = torchvision.datasets.ImageFolder(DATA_DIR, transform=train_transform)\n",
        "# test_dataset = torchvision.datasets.ImageFolder(DATA_DIR, transform=eval_transform)\n",
        "\n",
        "# train_indexes = [idx for idx in range(len(train_dataset)) if idx % 5]\n",
        "# test_indexes = [idx for idx in range(len(test_dataset)) if not idx % 5]\n",
        "\n",
        "# train_dataset = Subset(train_dataset, train_indexes)\n",
        "# test_dataset = Subset(test_dataset, test_indexes)\n",
        "\n",
        "# print(len(train_dataset)+len(test_dataset))\n",
        "\n",
        "train_paths, val_paths, test_paths  = divideClasses()\n",
        "train_dataset = Caltech(\"2\",split=\"train\",transform=train_transform, paths=train_paths)\n",
        "val_dataset = Caltech(\"3\",split=\"val\",transform=eval_transform, paths=val_paths)\n",
        "test_dataset = Caltech(\"4\",split=\"test\", transform=eval_transform, paths = test_paths)\n",
        "print(train_dataset.transform)\n",
        "# Check dataset sizes\n",
        "print('Train Dataset: {}'.format(len(train_dataset)))\n",
        "print('Val Dataset: {}'.format(len(val_dataset)))\n",
        "print('Test Dataset: {}'.format(len(test_dataset)))"
      ],
      "execution_count": 0,
      "outputs": []
    },
    {
      "cell_type": "markdown",
      "metadata": {
        "id": "FYEDQ7Z21ldN",
        "colab_type": "text"
      },
      "source": [
        "**Prepare Dataloaders**"
      ]
    },
    {
      "cell_type": "code",
      "metadata": {
        "id": "VriRw8SI1nle",
        "colab_type": "code",
        "colab": {}
      },
      "source": [
        "# Dataloaders iterate over pytorch datasets and transparently provide useful functions (e.g. parallelization and shuffling)\n",
        "train_dataloader = DataLoader(train_dataset, batch_size=BATCH_SIZE, shuffle=True, num_workers=4, drop_last=True)\n",
        "val_dataloader = DataLoader(val_dataset, batch_size=BATCH_SIZE, shuffle=True, num_workers=4)\n",
        "test_dataloader = DataLoader(test_dataset, batch_size=BATCH_SIZE, shuffle=False, num_workers=4)"
      ],
      "execution_count": 0,
      "outputs": []
    },
    {
      "cell_type": "markdown",
      "metadata": {
        "id": "gbZ1t5Qs2z4j",
        "colab_type": "text"
      },
      "source": [
        "**Prepare Network**"
      ]
    },
    {
      "cell_type": "code",
      "metadata": {
        "id": "exHUjtXa22DN",
        "colab_type": "code",
        "colab": {}
      },
      "source": [
        "#net = alexnet() # Loading AlexNet model\n",
        "#net = alexnet(pretrained=True) # Loading AlexNet model\n",
        "net = resnet50(pretrained=True)\n",
        "# for param in net.parameters():\n",
        "#      param.requires_grad = False\n",
        "# AlexNet has 1000 output neurons, corresponding to the 1000 ImageNet's classes\n",
        "# We need 101 outputs for Caltech-101\n",
        "#net.classifier[6] = nn.Linear(4096, NUM_CLASSES) # nn.Linear in pytorch is a fully connected layer\n",
        "                                           # The convolutional layer is nn.Conv2d\n",
        "num_ftrs = net.fc.in_features\n",
        "net.fc = nn.Linear(num_ftrs, NUM_CLASSES)\n",
        "# for param in net.classifier.parameters():\n",
        "#      param.requires_grad = False\n",
        "\n",
        "# We just changed the last layer of AlexNet with a new fully connected layer with 101 outputs\n",
        "# It is mandatory to study torchvision.models.alexnet source code"
      ],
      "execution_count": 0,
      "outputs": []
    },
    {
      "cell_type": "markdown",
      "metadata": {
        "id": "KEyL3H_R4qCf",
        "colab_type": "text"
      },
      "source": [
        "**Prepare Training**"
      ]
    },
    {
      "cell_type": "code",
      "metadata": {
        "id": "9sjq00G94tSc",
        "colab_type": "code",
        "colab": {}
      },
      "source": [
        "# Define loss function\n",
        "criterion = nn.CrossEntropyLoss() # for classification, we use Cross Entropy\n",
        "\n",
        "# Choose parameters to optimize\n",
        "# To access a different set of parameters, you have to access submodules of AlexNet\n",
        "# (nn.Module objects, like AlexNet, implement the Composite Pattern)\n",
        "# e.g.: parameters of the fully connected layers: net.classifier.parameters()\n",
        "# e.g.: parameters of the convolutional layers: look at alexnet's source code ;) \n",
        "parameters_to_optimize = net.parameters() # In this case we optimize over all the parameters of AlexNet\n",
        "\n",
        "# Define optimizer\n",
        "# An optimizer updates the weights based on loss\n",
        "# We use SGD with momentum\n",
        "optimizer = optim.SGD(parameters_to_optimize, lr=LR, momentum=MOMENTUM, weight_decay=WEIGHT_DECAY)\n",
        "\n",
        "# Define scheduler\n",
        "# A scheduler dynamically changes learning rate\n",
        "# The most common schedule is the step(-down), which multiplies learning rate by gamma every STEP_SIZE epochs\n",
        "scheduler = optim.lr_scheduler.StepLR(optimizer, step_size=STEP_SIZE, gamma=GAMMA)"
      ],
      "execution_count": 0,
      "outputs": []
    },
    {
      "cell_type": "markdown",
      "metadata": {
        "id": "AxYUli9d9uYQ",
        "colab_type": "text"
      },
      "source": [
        "**Train**"
      ]
    },
    {
      "cell_type": "code",
      "metadata": {
        "id": "ZcoQ5fD49yT_",
        "colab_type": "code",
        "colab": {}
      },
      "source": [
        "# By default, everything is loaded to cpu\n",
        "net = net.to(DEVICE) # this will bring the network to GPU if DEVICE is cuda\n",
        "\n",
        "cudnn.benchmark # Calling this optimizes runtime\n",
        "best_model= net\n",
        "max_acc = 0.0\n",
        "bepoch = 0\n",
        "current_step = 0\n",
        "# Start iterating over the epochs\n",
        "for epoch in range(NUM_EPOCHS):\n",
        "  print('Starting epoch {}/{}, LR = {}'.format(epoch+1, NUM_EPOCHS, scheduler.get_lr()))\n",
        "  net.train(True)\n",
        "  # Iterate over the dataset\n",
        "  for images, labels in train_dataloader:\n",
        "    # Bring data over the device of choice\n",
        "    images = images.to(DEVICE)\n",
        "    labels = labels.to(DEVICE)\n",
        "\n",
        "    net.train() # Sets module in training mode\n",
        "\n",
        "    # PyTorch, by default, accumulates gradients after each backward pass\n",
        "    # We need to manually set the gradients to zero before starting a new iteration\n",
        "    optimizer.zero_grad() # Zero-ing the gradients\n",
        "\n",
        "    # Forward pass to the network\n",
        "    outputs = net(images)\n",
        "\n",
        "    # Compute loss based on output and ground truth\n",
        "    loss = criterion(outputs, labels)\n",
        "\n",
        "    # Log loss\n",
        "    if current_step % LOG_FREQUENCY == 0:\n",
        "      print('Step {}, Loss {}'.format(current_step, loss.item()))\n",
        "\n",
        "    # Compute gradients for each layer and update weights\n",
        "    loss.backward()  # backward pass: computes gradients\n",
        "    optimizer.step() # update weights based on accumulated gradients\n",
        "\n",
        "    current_step += 1\n",
        "  net.train(False)\n",
        "  running_corrects = 0\n",
        "  for images, labels in tqdm(val_dataloader):\n",
        "    images = images.to(DEVICE)\n",
        "    labels = labels.to(DEVICE)\n",
        "\n",
        "    # Forward Pass\n",
        "    outputs = net(images)\n",
        "    #Get predictions\n",
        "    _, preds = torch.max(outputs.data, 1)\n",
        "  # for images, labels in tqdm(val_dataloader):\n",
        "  #   images = images.to(DEVICE)\n",
        "  #   labels = labels.to(DEVICE)\n",
        "\n",
        "  #   bs, ncrops, c, h, w = images.size()\n",
        "  #   result = net(images.view(-1, c, h, w)) # fuse batch size and ncrops\n",
        "  #   result_avg = result.view(bs, ncrops, -1).mean(1) # avg over crops\n",
        "  #   _, preds = torch.max(result_avg, 1)\n",
        "    \n",
        "\n",
        "    # Update Corrects\n",
        "    running_corrects += torch.sum(preds == labels.data).data.item()\n",
        "\n",
        "  # Calculate Accuracy\n",
        "  accuracy = running_corrects / float(len(val_dataset))\n",
        "  if(accuracy >= max_acc):\n",
        "    max_acc = accuracy\n",
        "    best_model = net\n",
        "    bepoch = epoch+1\n",
        "  print('\\nEpoch:'+str(epoch+1) +' Validation Accuracy: {}'.format(accuracy))\n",
        "\n",
        "  # Step the scheduler\n",
        "  scheduler.step() "
      ],
      "execution_count": 0,
      "outputs": []
    },
    {
      "cell_type": "markdown",
      "metadata": {
        "id": "UsHFI-GAJd69",
        "colab_type": "text"
      },
      "source": [
        "**Test**"
      ]
    },
    {
      "cell_type": "code",
      "metadata": {
        "id": "EO3HV5pqJg1o",
        "colab_type": "code",
        "colab": {}
      },
      "source": [
        "print(\"Using model with n_epochs: \"+str(bepoch)+\" with accuracy \"+str(max_acc))\n",
        "best_model = best_model.to(DEVICE) # this will bring the network to GPU if DEVICE is cuda\n",
        "best_model.train(False) # Set Network to evaluation mode\n",
        "\n",
        "running_corrects = 0\n",
        "# for images, labels in tqdm(test_dataloader):\n",
        "#   images = images.to(DEVICE)\n",
        "#   labels = labels.to(DEVICE)\n",
        "\n",
        "#   # Forward Pass\n",
        "#   outputs = net(images)\n",
        "\n",
        "#   # Get predictions\n",
        "#   _, preds = torch.max(outputs.data, 1)\n",
        "\n",
        "#   # Update Corrects\n",
        "#   running_corrects += torch.sum(preds == labels.data).data.item()\n",
        "for images, labels in tqdm(test_dataloader):\n",
        "     images = images.to(DEVICE)\n",
        "     labels = labels.to(DEVICE)\n",
        "\n",
        "     bs, ncrops, c, h, w = images.size()\n",
        "     result = best_model(images.view(-1, c, h, w)) # fuse batch size and ncrops\n",
        "     result_avg = result.view(bs, ncrops, -1).mean(1) # avg over crops\n",
        "     _, preds = torch.max(result_avg, 1)\n",
        "    \n",
        "\n",
        "    # Update Corrects\n",
        "     running_corrects += torch.sum(preds == labels.data).data.item()\n",
        "\n",
        "#   # Calculate Accuracy\n",
        "# Calculate Accuracy\n",
        "accuracy = running_corrects / float(len(test_dataset))\n",
        "\n",
        "print('Test Accuracy: {}'.format(accuracy))"
      ],
      "execution_count": 0,
      "outputs": []
    }
  ]
}