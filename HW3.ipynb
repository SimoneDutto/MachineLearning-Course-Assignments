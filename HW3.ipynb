{
  "nbformat": 4,
  "nbformat_minor": 0,
  "metadata": {
    "colab": {
      "name": "HW3.ipynb",
      "provenance": [],
      "collapsed_sections": [],
      "toc_visible": true,
      "include_colab_link": true
    },
    "kernelspec": {
      "name": "python3",
      "display_name": "Python 3"
    },
    "accelerator": "GPU"
  },
  "cells": [
    {
      "cell_type": "markdown",
      "metadata": {
        "id": "view-in-github",
        "colab_type": "text"
      },
      "source": [
        "<a href=\"https://colab.research.google.com/github/SimoneDutto/MachineLearning/blob/master/HW3.ipynb\" target=\"_parent\"><img src=\"https://colab.research.google.com/assets/colab-badge.svg\" alt=\"Open In Colab\"/></a>"
      ]
    },
    {
      "cell_type": "markdown",
      "metadata": {
        "id": "c9QcGnGPdX2C",
        "colab_type": "text"
      },
      "source": [
        "\n",
        "**Install requirements**"
      ]
    },
    {
      "cell_type": "code",
      "metadata": {
        "id": "k9O3aM3Tb28q",
        "colab_type": "code",
        "outputId": "a005cdc1-8358-4577-fecd-a3c95c27a605",
        "colab": {
          "base_uri": "https://localhost:8080/",
          "height": 441
        }
      },
      "source": [
        "!pip3 install 'torch==1.3.1'\n",
        "!pip3 install 'torchvision==0.4.2'\n",
        "!pip3 install 'Pillow-SIMD'\n",
        "!pip3 install 'tqdm'"
      ],
      "execution_count": 0,
      "outputs": [
        {
          "output_type": "stream",
          "text": [
            "Requirement already satisfied: torch==1.3.1 in /usr/local/lib/python3.6/dist-packages (1.3.1)\n",
            "Requirement already satisfied: numpy in /usr/local/lib/python3.6/dist-packages (from torch==1.3.1) (1.17.4)\n",
            "Requirement already satisfied: torchvision==0.4.2 in /usr/local/lib/python3.6/dist-packages (0.4.2)\n",
            "Requirement already satisfied: torch==1.3.1 in /usr/local/lib/python3.6/dist-packages (from torchvision==0.4.2) (1.3.1)\n",
            "Requirement already satisfied: numpy in /usr/local/lib/python3.6/dist-packages (from torchvision==0.4.2) (1.17.4)\n",
            "Requirement already satisfied: six in /usr/local/lib/python3.6/dist-packages (from torchvision==0.4.2) (1.12.0)\n",
            "Requirement already satisfied: pillow>=4.1.1 in /usr/local/lib/python3.6/dist-packages (from torchvision==0.4.2) (4.3.0)\n",
            "Requirement already satisfied: olefile in /usr/local/lib/python3.6/dist-packages (from pillow>=4.1.1->torchvision==0.4.2) (0.46)\n",
            "Collecting Pillow-SIMD\n",
            "\u001b[?25l  Downloading https://files.pythonhosted.org/packages/b1/19/b7043190f481abb94dcdd1e69c4432432aaa73455cf1128eae39b8eb2518/Pillow-SIMD-6.0.0.post0.tar.gz (621kB)\n",
            "\u001b[K     |████████████████████████████████| 624kB 4.8MB/s \n",
            "\u001b[?25hBuilding wheels for collected packages: Pillow-SIMD\n",
            "  Building wheel for Pillow-SIMD (setup.py) ... \u001b[?25l\u001b[?25hdone\n",
            "  Created wheel for Pillow-SIMD: filename=Pillow_SIMD-6.0.0.post0-cp36-cp36m-linux_x86_64.whl size=1062836 sha256=bd9225ef558df4eb016cee1470965e8cf16f8ca487f0039bbae31d5d1378e619\n",
            "  Stored in directory: /root/.cache/pip/wheels/06/60/65/cc9afa345ccbf10a34cc208266b992941a8608010b592f43d1\n",
            "Successfully built Pillow-SIMD\n",
            "Installing collected packages: Pillow-SIMD\n",
            "Successfully installed Pillow-SIMD-6.0.0.post0\n"
          ],
          "name": "stdout"
        },
        {
          "output_type": "display_data",
          "data": {
            "application/vnd.colab-display-data+json": {
              "pip_warning": {
                "packages": [
                  "PIL"
                ]
              }
            }
          },
          "metadata": {
            "tags": []
          }
        },
        {
          "output_type": "stream",
          "text": [
            "Requirement already satisfied: tqdm in /usr/local/lib/python3.6/dist-packages (4.28.1)\n"
          ],
          "name": "stdout"
        }
      ]
    },
    {
      "cell_type": "markdown",
      "metadata": {
        "id": "fo942LMOdlh4",
        "colab_type": "text"
      },
      "source": [
        "**Import libraries**"
      ]
    },
    {
      "cell_type": "code",
      "metadata": {
        "id": "DokFOdD1dJEl",
        "colab_type": "code",
        "colab": {}
      },
      "source": [
        "import os\n",
        "import logging\n",
        "\n",
        "import torch\n",
        "import torch.nn as nn\n",
        "import torch.optim as optim\n",
        "from torch.utils.data import Subset, DataLoader\n",
        "from torch.backends import cudnn\n",
        "\n",
        "import torchvision\n",
        "from torchvision import transforms\n",
        "from torchvision.models import alexnet\n",
        "\n",
        "from PIL import Image\n",
        "from tqdm import tqdm\n",
        "\n",
        "import matplotlib.pyplot as plt\n",
        "from google.colab import files\n"
      ],
      "execution_count": 0,
      "outputs": []
    },
    {
      "cell_type": "markdown",
      "metadata": {
        "id": "OIDLJuIXK_vh",
        "colab_type": "text"
      },
      "source": [
        "**Set Arguments**"
      ]
    },
    {
      "cell_type": "code",
      "metadata": {
        "id": "d5PkYfqfK_SA",
        "colab_type": "code",
        "colab": {}
      },
      "source": [
        "DEVICE = 'cuda' # 'cuda' or 'cpu'\n",
        "\n",
        "NUM_CLASSES = 102 # 101 + 1: There is am extra Background class that should be removed \n",
        "\n",
        "BATCH_SIZE = 256     # Higher batch sizes allows for larger learning rates. An empirical heuristic suggests that, when changing\n",
        "                     # the batch size, learning rate should change by the same factor to have comparable results\n",
        "\n",
        "LR = 1e-3            # The initial Learning Rate\n",
        "MOMENTUM = 0.9       # Hyperparameter for SGD, keep this at 0.9 when using SGD\n",
        "WEIGHT_DECAY = 5e-5  # Regularization, you can keep this at the default\n",
        "ALPHA_D = 0.1        # Coef for discriminator reverse gradient\n",
        "\n",
        "NUM_EPOCHS = 20      # Total number of training epochs (iterations over dataset)\n",
        "STEP_SIZE = 15       # How many epochs before decreasing learning rate (if using a step-down policy)\n",
        "GAMMA = 0.1          # Multiplicative factor for learning rate step-down\n",
        "\n",
        "LOG_FREQUENCY = 10"
      ],
      "execution_count": 0,
      "outputs": []
    },
    {
      "cell_type": "markdown",
      "metadata": {
        "id": "9gwii0TBHvzh",
        "colab_type": "text"
      },
      "source": [
        "**Define Data Preprocessing**"
      ]
    },
    {
      "cell_type": "code",
      "metadata": {
        "id": "QUDdw4j2H0Mc",
        "colab_type": "code",
        "colab": {}
      },
      "source": [
        "# Define transforms for training phase\n",
        "train_transform = transforms.Compose([transforms.Resize(256),      # Resizes short size of the PIL image to 256\n",
        "                                      transforms.CenterCrop(224),  # Crops a central square patch of the image\n",
        "                                                                   # 224 because torchvision's AlexNet needs a 224x224 input!\n",
        "                                                                   # Remember this when applying different transformations, otherwise you get an error\n",
        "                                      transforms.ToTensor(), # Turn PIL Image to torch.Tensor\n",
        "                                      transforms.Normalize((0.485, 0.456, 0.406), (0.229, 0.224, 0.225)) # Normalizes tensor with mean and standard deviation\n",
        "])\n",
        "# Define transforms for the evaluation phase\n",
        "eval_transform = transforms.Compose([transforms.Resize(256),\n",
        "                                      transforms.CenterCrop(224),\n",
        "                                      transforms.ToTensor(),\n",
        "                                      transforms.Normalize((0.485, 0.456, 0.406), (0.229, 0.224, 0.225))                                    \n",
        "])"
      ],
      "execution_count": 0,
      "outputs": []
    },
    {
      "cell_type": "markdown",
      "metadata": {
        "id": "-s1vpdRk9eyH",
        "colab_type": "text"
      },
      "source": [
        "# Define DNN"
      ]
    },
    {
      "cell_type": "code",
      "metadata": {
        "id": "hVUrIlXD9g_N",
        "colab_type": "code",
        "colab": {}
      },
      "source": [
        "import torch\n",
        "import torch.nn as nn\n",
        "from torch.autograd import Function\n",
        "try:\n",
        "    from torch.hub import load_state_dict_from_url\n",
        "except ImportError:\n",
        "    from torch.utils.model_zoo import load_url as load_state_dict_from_url\n",
        "\n",
        "__all__ = ['AlexNet', 'alexnet']\n",
        "\n",
        "model_urls = {\n",
        "    'alexnet': 'https://download.pytorch.org/models/alexnet-owt-4df8aa71.pth',\n",
        "}\n",
        "\n",
        "class ReverseLayerF(Function):\n",
        "    # Forwards identity\n",
        "    # Sends backward reversed gradients\n",
        "    @staticmethod\n",
        "    def forward(ctx, x, alpha):\n",
        "        ctx.alpha = alpha\n",
        "\n",
        "        return x.view_as(x)\n",
        "\n",
        "    @staticmethod\n",
        "    def backward(ctx, grad_output):\n",
        "        output = grad_output.neg() * ctx.alpha\n",
        "\n",
        "        return output, None\n",
        "\n",
        "class DANN(nn.Module):\n",
        "\n",
        "    def __init__(self, num_classes=1000):\n",
        "        super(DANN, self).__init__()\n",
        "        self.features = nn.Sequential(\n",
        "            nn.Conv2d(3, 64, kernel_size=11, stride=4, padding=2),\n",
        "            nn.ReLU(inplace=True),\n",
        "            nn.MaxPool2d(kernel_size=3, stride=2),\n",
        "            nn.Conv2d(64, 192, kernel_size=5, padding=2),\n",
        "            nn.ReLU(inplace=True),\n",
        "            nn.MaxPool2d(kernel_size=3, stride=2),\n",
        "            nn.Conv2d(192, 384, kernel_size=3, padding=1),\n",
        "            nn.ReLU(inplace=True),\n",
        "            nn.Conv2d(384, 256, kernel_size=3, padding=1),\n",
        "            nn.ReLU(inplace=True),\n",
        "            nn.Conv2d(256, 256, kernel_size=3, padding=1),\n",
        "            nn.ReLU(inplace=True),\n",
        "            nn.MaxPool2d(kernel_size=3, stride=2),\n",
        "        )\n",
        "        self.avgpool = nn.AdaptiveAvgPool2d((6, 6))\n",
        "        self.classifier = nn.Sequential(\n",
        "            nn.Dropout(),\n",
        "            nn.Linear(256 * 6 * 6, 4096),\n",
        "            nn.ReLU(inplace=True),\n",
        "            nn.Dropout(),\n",
        "            nn.Linear(4096, 4096),\n",
        "            nn.ReLU(inplace=True),\n",
        "            nn.Linear(4096, num_classes),\n",
        "        )\n",
        "        self.classifier_domain = nn.Sequential(\n",
        "            nn.Dropout(),\n",
        "            nn.Linear(256 * 6 * 6, 4096),\n",
        "            nn.ReLU(inplace=True),\n",
        "            nn.Dropout(),\n",
        "            nn.Linear(4096, 4096),\n",
        "            nn.ReLU(inplace=True),\n",
        "            nn.Linear(4096, 2), # classifier between domain source or target\n",
        "        )\n",
        "\n",
        "    def forward(self, x, alpha=None):\n",
        "        x = self.features(x)\n",
        "        x = self.avgpool(x)\n",
        "        x = torch.flatten(x, 1)\n",
        "        if alpha:\n",
        "          x = ReverseLayerF.apply(x, alpha)\n",
        "          x = self.classifier_domain(x)\n",
        "        else:\n",
        "          x = self.classifier(x)\n",
        "        return x\n",
        "\n",
        "\n",
        "def dann( **kwargs):\n",
        "    \"\"\"AlexNet model architecture from the\n",
        "    `\"One weird trick...\" <https://arxiv.org/abs/1404.5997>`_ paper.\n",
        "    \"\"\"\n",
        "  \n",
        "    model = DANN(**kwargs)\n",
        "    state_dict = load_state_dict_from_url(model_urls['alexnet'],\n",
        "                                          progress=True)\n",
        "    model.load_state_dict(state_dict, strict=False)\n",
        "    return model"
      ],
      "execution_count": 0,
      "outputs": []
    },
    {
      "cell_type": "markdown",
      "metadata": {
        "id": "2qYIHPzYLY7i",
        "colab_type": "text"
      },
      "source": [
        "**Prepare Dataset**"
      ]
    },
    {
      "cell_type": "code",
      "metadata": {
        "id": "QfVq_uDHLbsR",
        "colab_type": "code",
        "outputId": "26217132-5c8e-4290-9266-e37910d10808",
        "colab": {
          "base_uri": "https://localhost:8080/",
          "height": 84
        }
      },
      "source": [
        "# Clone github repository with data\n",
        "if not os.path.isdir('./Homework3-PACS'):\n",
        "  !git clone https://github.com/MachineLearning2020/Homework3-PACS\n",
        "\n",
        "PHOTO_DIR = 'Homework3-PACS/PACS/photo'\n",
        "ART_DIR = 'Homework3-PACS/PACS/art_painting'\n",
        "CAR_DIR = 'Homework3-PACS/PACS/cartoon'\n",
        "SKT_DIR = 'Homework3-PACS/PACS/sketch'\n",
        "# Prepare Pytorch train/test Datasets\n",
        "photo_dataset = torchvision.datasets.ImageFolder(PHOTO_DIR, transform=train_transform)\n",
        "art_dataset = torchvision.datasets.ImageFolder(ART_DIR, transform=eval_transform)\n",
        "car_dataset = torchvision.datasets.ImageFolder(CAR_DIR, transform=eval_transform)\n",
        "skt_dataset = torchvision.datasets.ImageFolder(SKT_DIR, transform=eval_transform)\n",
        "# Check dataset sizes\n",
        "print('Train Dataset: {}'.format(len(photo_dataset)))\n",
        "print('Test Dataset: {}'.format(len(art_dataset)))\n",
        "print('Train Dataset: {}'.format(len(car_dataset)))\n",
        "print('Test Dataset: {}'.format(len(skt_dataset)))"
      ],
      "execution_count": 24,
      "outputs": [
        {
          "output_type": "stream",
          "text": [
            "Train Dataset: 1670\n",
            "Test Dataset: 2048\n",
            "Train Dataset: 2344\n",
            "Test Dataset: 3929\n"
          ],
          "name": "stdout"
        }
      ]
    },
    {
      "cell_type": "markdown",
      "metadata": {
        "id": "FYEDQ7Z21ldN",
        "colab_type": "text"
      },
      "source": [
        "**Prepare Dataloaders**"
      ]
    },
    {
      "cell_type": "code",
      "metadata": {
        "id": "VriRw8SI1nle",
        "colab_type": "code",
        "colab": {}
      },
      "source": [
        "# Dataloaders iterate over pytorch datasets and transparently provide useful functions (e.g. parallelization and shuffling)\n",
        "photo_dataloader = DataLoader(photo_dataset, batch_size=BATCH_SIZE, shuffle=True, num_workers=4, drop_last=True)\n",
        "art_dataloader = DataLoader(art_dataset, batch_size=BATCH_SIZE, shuffle=True, num_workers=4, drop_last=True)\n",
        "car_dataloader = DataLoader(car_dataset, batch_size=BATCH_SIZE, shuffle=False, num_workers=4)\n",
        "skt_dataloader = DataLoader(skt_dataset, batch_size=BATCH_SIZE, shuffle=False, num_workers=4)"
      ],
      "execution_count": 0,
      "outputs": []
    },
    {
      "cell_type": "markdown",
      "metadata": {
        "id": "gbZ1t5Qs2z4j",
        "colab_type": "text"
      },
      "source": [
        "**Prepare Network**"
      ]
    },
    {
      "cell_type": "code",
      "metadata": {
        "id": "exHUjtXa22DN",
        "colab_type": "code",
        "colab": {}
      },
      "source": [
        "net = dann() # Loading AlexNet model"
      ],
      "execution_count": 0,
      "outputs": []
    },
    {
      "cell_type": "markdown",
      "metadata": {
        "id": "KEyL3H_R4qCf",
        "colab_type": "text"
      },
      "source": [
        "**Prepare Training**"
      ]
    },
    {
      "cell_type": "code",
      "metadata": {
        "id": "9sjq00G94tSc",
        "colab_type": "code",
        "colab": {}
      },
      "source": [
        "# Define loss function\n",
        "criterion_classifier = nn.CrossEntropyLoss() # for classification, we use Cross Entropy\n",
        "criterion_domain = nn.CrossEntropyLoss()\n",
        "# Choose parameters to optimize\n",
        "# To access a different set of parameters, you have to access submodules of AlexNet\n",
        "# (nn.Module objects, like AlexNet, implement the Composite Pattern)\n",
        "# e.g.: parameters of the fully connected layers: net.classifier.parameters()\n",
        "# e.g.: parameters of the convolutional layers: look at alexnet's source code ;) \n",
        " # In this case we optimize over all the parameters of AlexNet\n",
        "\n",
        "# Define optimizer\n",
        "# An optimizer updates the weights based on loss\n",
        "# We use SGD with momentum\n",
        "\n",
        "\n",
        "# Define scheduler\n",
        "# A scheduler dynamically changes learning rate\n",
        "# The most common schedule is the step(-down), which multiplies learning rate by gamma every STEP_SIZE epochs\n"
      ],
      "execution_count": 0,
      "outputs": []
    },
    {
      "cell_type": "markdown",
      "metadata": {
        "id": "AxYUli9d9uYQ",
        "colab_type": "text"
      },
      "source": [
        "**Train**"
      ]
    },
    {
      "cell_type": "code",
      "metadata": {
        "id": "NCfglIf49AVK",
        "colab_type": "code",
        "outputId": "58bb0b83-725f-465e-9b92-5c3abc4d7774",
        "colab": {
          "base_uri": "https://localhost:8080/",
          "height": 353
        }
      },
      "source": [
        "# By default, everything is loaded to cpu\n",
        "net = net.to(DEVICE) # this will bring the network to GPU if DEVICE is cuda\n",
        "\n",
        "cudnn.benchmark # Calling this optimizes runtime\n",
        "\n",
        "current_step = 0\n",
        "loss_c = []\n",
        "loss_d0 = []\n",
        "loss_d1 = []\n",
        "loss_t = []\n",
        "\n",
        "accuracies = []\n",
        "accuracy_max=0\n",
        "best_alpha = 0\n",
        "best_lr = 0\n",
        "\n",
        "alphas = [1, 0.1, 0.01]\n",
        "lrs = [0.001, 0.01]\n",
        "\n",
        "da = True\n",
        "validation = True\n",
        "nan = False\n",
        "\n",
        "for alpha in alphas:\n",
        "  for lr in lrs:\n",
        "    parameters_to_optimize = net.parameters()\n",
        "    optimizer = optim.SGD(parameters_to_optimize, lr=lr, momentum=MOMENTUM, weight_decay=WEIGHT_DECAY)\n",
        "    scheduler = optim.lr_scheduler.StepLR(optimizer, step_size=STEP_SIZE, gamma=GAMMA)\n",
        "# Start iterating over the epochs\n",
        "    for epoch in range(NUM_EPOCHS):\n",
        "      print('Starting epoch {}/{}, LR = {}, ALPHA = {}'.format(epoch+1, NUM_EPOCHS, scheduler.get_lr(), alpha))\n",
        "\n",
        "      # Iterate over the dataset\n",
        "      for images, labels in photo_dataloader:\n",
        "        # Bring data over the device of choice\n",
        "        images = images.to(DEVICE)\n",
        "        labels = labels.to(DEVICE)\n",
        "\n",
        "        net.train() # Sets module in training mode\n",
        "\n",
        "        # PyTorch, by default, accumulates gradients after each backward pass\n",
        "        # We need to manually set the gradients to zero before starting a new iteration\n",
        "        optimizer.zero_grad() # Zero-ing the gradients\n",
        "\n",
        "        # Forward pass to the network\n",
        "        outputs = net(images)\n",
        "\n",
        "        # Compute loss based on output and ground truth\n",
        "        loss_classifier = criterion_classifier(outputs, labels)\n",
        "        if not da:\n",
        "          loss_classifier.backward()\n",
        "          optimizer.step()\n",
        "        else:\n",
        "          loss_classifier.backward(retain_graph=True)\n",
        "        # Log loss\n",
        "        if current_step % LOG_FREQUENCY == 0:\n",
        "          loss_c.append(loss_classifier.item())\n",
        "          print('Step {}, Loss Net {}'.format(current_step, loss_classifier.item()))\n",
        "        if torch.isnan(loss_classifier):\n",
        "          nan = True\n",
        "          break\n",
        "        # Compute gradients for each layer and update weights\n",
        "\n",
        "        # Forward pass to the discriminator class label 0\n",
        "        if not da:\n",
        "          continue\n",
        "        \n",
        "        domain_labels = torch.zeros(BATCH_SIZE)\n",
        "        domain_labels = domain_labels.long().to(DEVICE)\n",
        "\n",
        "        outputs_domain = net(images, alpha=alpha)\n",
        "\n",
        "        # Compute loss based on output and ground truth\n",
        "        loss_discriminator0 = criterion_domain(outputs, domain_labels)\n",
        "        loss_discriminator0.backward(retain_graph=True)\n",
        "        # Log loss\n",
        "        if current_step % LOG_FREQUENCY == 0:\n",
        "          loss_d0.append(loss_discriminator0.item())\n",
        "          print('Step {}, Loss Discriminator Class Label0 {}'.format(current_step, loss_discriminator0.item()))\n",
        "\n",
        "        # Forward pass to the discriminator class label 1\n",
        "        images, labels = next(iter(art_dataloader))\n",
        "        images = images.to(DEVICE)\n",
        "        labels = labels.to(DEVICE)\n",
        "\n",
        "        domain_labels = torch.ones(BATCH_SIZE)\n",
        "        domain_labels = domain_labels.long().to(DEVICE)\n",
        "\n",
        "        outputs = net(images, alpha=alpha)\n",
        "        loss_discriminator1 = criterion_domain(outputs, domain_labels)\n",
        "        loss_discriminator1.backward()\n",
        "\n",
        "\n",
        "        # Log loss\n",
        "        if current_step % LOG_FREQUENCY == 0:\n",
        "          loss_d1.append(loss_discriminator1.item())\n",
        "          print('Step {}, Loss Discriminator Class Label1 {}'.format(current_step, loss_discriminator1.item()))\n",
        "        \n",
        "        # if current_step % LOG_FREQUENCY == 0:\n",
        "        #   loss_t.append(loss_tot)\n",
        "        #   print('Step {}, Total Loss {}'.format(current_step, loss_tot.item()))\n",
        "        \n",
        "\n",
        "        optimizer.step() # update weights based on accumulated gradients\n",
        "\n",
        "        current_step += 1\n",
        "\n",
        "      if not validation:\n",
        "        continue\n",
        "\n",
        "      net.train(False) # Set Network to evaluation mode\n",
        "\n",
        "      running_corrects = 0\n",
        "\n",
        "      for images, labels in tqdm(skt_dataloader):\n",
        "        images = images.to(DEVICE)\n",
        "        labels = labels.to(DEVICE)\n",
        "\n",
        "        # Forward Pass\n",
        "        outputs = net(images)\n",
        "\n",
        "        # Get predictions\n",
        "        _, preds = torch.max(outputs.data, 1)\n",
        "\n",
        "        # Update Corrects\n",
        "        running_corrects += torch.sum(preds == labels.data).data.item()\n",
        "\n",
        "        # Calculate Accuracy\n",
        "      for images, labels in tqdm(car_dataloader):\n",
        "        images = images.to(DEVICE)\n",
        "        labels = labels.to(DEVICE)\n",
        "\n",
        "        # Forward Pass\n",
        "        outputs = net(images)\n",
        "\n",
        "        # Get predictions\n",
        "        _, preds = torch.max(outputs.data, 1)\n",
        "\n",
        "        # Update Corrects\n",
        "        running_corrects += torch.sum(preds == labels.data).data.item()\n",
        "      \n",
        "      accuracy_val = running_corrects / float(len(skt_dataset)+len(car_dataloader))\n",
        "\n",
        "      print('\\nValidation Accuracy on Sketch/Car: {}\\n'.format(accuracy_val))\n",
        "      \n",
        "      accuracies.append(accuracy_val)\n",
        "\n",
        "      if accuracy_val > accuracy_max:\n",
        "        accuracy_max = accuracy_val\n",
        "        best_model = net\n",
        "        best_alpha = alpha\n",
        "        best_lr = lr\n",
        "      # Step the scheduler\n",
        "      scheduler.step()\n",
        "      if nan:\n",
        "        break\n",
        "  if not da:\n",
        "    break \n",
        "\n",
        "print(accuracies)\n",
        "plot_loss = False\n",
        "if plot_loss:\n",
        "  plt.figure()\n",
        "  # naming the x axis \n",
        "  plt.xlabel('step') \n",
        "  # naming the y axis \n",
        "  plt.ylabel('loss_tot')\n",
        "  step_values = range(0,len(loss_t)) \n",
        "  plt.xticks(step_values)\n",
        "  plt.plot(step_values, loss_t, '--bo') \n",
        "  # giving a title to my graph \n",
        "  plt.title('Total Loss') \n",
        "  plt.savefig(\"loss_tot.png\")\n",
        "  plt.show()\n",
        "\n",
        "  #files.download(\"loss_tot.png\") \n",
        "\n",
        "  plt.figure()\n",
        "  # naming the x axis \n",
        "  plt.xlabel('step') \n",
        "  # naming the y axis \n",
        "  plt.ylabel('') \n",
        "  plt.xticks(step_values)\n",
        "  plt.plot(step_values, loss_c, '--bo') \n",
        "  # giving a title to my graph \n",
        "  plt.title('Classifier Loss') \n",
        "  plt.savefig(\"loss_c.png\")\n",
        "  plt.show()\n",
        "\n",
        "  #files.download(\"loss_c.png\") \n",
        "\n",
        "  plt.figure()\n",
        "  # naming the x axis \n",
        "  plt.xlabel('step') \n",
        "  # naming the y axis \n",
        "  plt.ylabel('Discriminator Loss') \n",
        "  plt.xticks(step_values)\n",
        "  plt.plot(step_values, loss_d0, '--bo', color='olive', label=\"d0\")\n",
        "  plt.plot(step_values, loss_d1, '--bo', color='skyblue', label=\"d1\")\n",
        "  plt.legend()\n",
        "\n",
        "  # giving a title to my graph \n",
        "  plt.title('Discriminator Loss') \n",
        "  plt.savefig(\"loss_d.png\")\n",
        "  plt.show()\n",
        "\n",
        "  #files.download(\"loss_d.png\") "
      ],
      "execution_count": 0,
      "outputs": [
        {
          "output_type": "stream",
          "text": [
            "Starting epoch 1/20, LR = [0.001], ALPHA = 1\n",
            "Step 0, Loss Net 17.714834213256836\n",
            "Step 0, Loss Discriminator Class Label0 15.459487915039062\n",
            "Step 0, Loss Discriminator Class Label1 0.530855119228363\n"
          ],
          "name": "stdout"
        },
        {
          "output_type": "stream",
          "text": [
            "100%|██████████| 16/16 [00:12<00:00,  1.29it/s]\n",
            "100%|██████████| 10/10 [00:08<00:00,  1.22it/s]"
          ],
          "name": "stderr"
        },
        {
          "output_type": "stream",
          "text": [
            "\n",
            "Validation Accuracy on Sketch/Car: 0.09570957095709572\n",
            "\n",
            "Starting epoch 2/20, LR = [0.001], ALPHA = 1\n"
          ],
          "name": "stdout"
        },
        {
          "output_type": "stream",
          "text": [
            "\n"
          ],
          "name": "stderr"
        },
        {
          "output_type": "stream",
          "text": [
            "Step 10, Loss Net 3.1180098056793213\n",
            "Step 10, Loss Discriminator Class Label0 0.4778149425983429\n",
            "Step 10, Loss Discriminator Class Label1 0.002801820170134306\n"
          ],
          "name": "stdout"
        },
        {
          "output_type": "stream",
          "text": [
            "100%|██████████| 16/16 [00:12<00:00,  1.27it/s]\n",
            "100%|██████████| 10/10 [00:08<00:00,  1.15it/s]"
          ],
          "name": "stderr"
        },
        {
          "output_type": "stream",
          "text": [
            "\n",
            "Validation Accuracy on Sketch/Car: 0.09900990099009901\n",
            "\n",
            "Starting epoch 3/20, LR = [0.001], ALPHA = 1\n"
          ],
          "name": "stdout"
        },
        {
          "output_type": "stream",
          "text": [
            "\n",
            "  0%|          | 0/16 [00:00<?, ?it/s]"
          ],
          "name": "stderr"
        }
      ]
    },
    {
      "cell_type": "markdown",
      "metadata": {
        "id": "UsHFI-GAJd69",
        "colab_type": "text"
      },
      "source": [
        "**Test**"
      ]
    },
    {
      "cell_type": "code",
      "metadata": {
        "id": "EO3HV5pqJg1o",
        "colab_type": "code",
        "colab": {}
      },
      "source": [
        "print(\"Test with best model with (apha, lr) (\"+str(best_alpha) +\",\"+str(best_lr)+\"): accuracy \"+str(accuracy_max))\n",
        "\n",
        "net = best_model # this will bring the network to GPU if DEVICE is cuda\n",
        "net.train(False) # Set Network to evaluation mode\n",
        "\n",
        "running_corrects = 0\n",
        "for images, labels in tqdm(art_dataloader):\n",
        "  images = images.to(DEVICE)\n",
        "  labels = labels.to(DEVICE)\n",
        "\n",
        "  # Forward Pass\n",
        "  outputs = net(images)\n",
        "\n",
        "  # Get predictions\n",
        "  _, preds = torch.max(outputs.data, 1)\n",
        "\n",
        "  # Update Corrects\n",
        "  running_corrects += torch.sum(preds == labels.data).data.item()\n",
        "\n",
        "# Calculate Accuracy\n",
        "accuracy = running_corrects / float(len(art_dataset))\n",
        "\n",
        "print('Test Accuracy: {}'.format(accuracy))"
      ],
      "execution_count": 0,
      "outputs": []
    }
  ]
}